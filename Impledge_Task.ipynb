{
  "nbformat": 4,
  "nbformat_minor": 0,
  "metadata": {
    "colab": {
      "provenance": []
    },
    "kernelspec": {
      "name": "python3",
      "display_name": "Python 3"
    },
    "language_info": {
      "name": "python"
    }
  },
  "cells": [
    {
      "cell_type": "code",
      "execution_count": 4,
      "metadata": {
        "colab": {
          "base_uri": "https://localhost:8080/"
        },
        "id": "aswOTdtixlOx",
        "outputId": "52da6f6f-ce34-4744-9c69-66a44d2eeba7"
      },
      "outputs": [
        {
          "output_type": "stream",
          "name": "stdout",
          "text": [
            "Longest Compound Word: ratcatdogcat\n",
            "Second Longest Compound Word: catsdogcats\n",
            "Time taken to process: 0.0005252361297607422 seconds\n"
          ]
        }
      ],
      "source": [
        "import time\n",
        "\n",
        "d = {}\n",
        "\n",
        "def iscompoundword(word, word_set):\n",
        "    if word in d:\n",
        "        return d[word]\n",
        "\n",
        "    for i in range(1, len(word)):\n",
        "        pre = word[:i]\n",
        "        if pre in word_set:\n",
        "            suf = word[i:]\n",
        "            if suf in word_set or iscompoundword(suf, word_set):\n",
        "                d[word] = True\n",
        "                return True\n",
        "\n",
        "    d[word] = False\n",
        "    return False\n",
        "\n",
        "def complength(a, b):\n",
        "    return len(a) > len(b)\n",
        "\n",
        "starttime = time.time()\n",
        "\n",
        "with open(\"Input_01.txt\", \"r\") as file:\n",
        "    words = file.read().splitlines()\n",
        "\n",
        "word_set = set(words)\n",
        "words.sort(key=len, reverse=True)\n",
        "longcompound = \"\"\n",
        "seclongcompound = \"\"\n",
        "\n",
        "for word in words:\n",
        "    if iscompoundword(word, word_set):\n",
        "        if not longcompound:\n",
        "            longcompound = word\n",
        "        elif len(word) > len(longcompound):\n",
        "            seclongcompound = longcompound\n",
        "            longcompound = word\n",
        "        elif not seclongcompound or len(word) > len(seclongcompound):\n",
        "            seclongcompound = word\n",
        "\n",
        "endtime = time.time()\n",
        "processing_time = endtime - starttime\n",
        "\n",
        "print(\"Longest Compound Word:\", longcompound)\n",
        "print(\"Second Longest Compound Word:\", seclongcompound)\n",
        "print(\"Time taken to process:\", processing_time, \"seconds\")\n"
      ]
    }
  ]
}